{
  "nbformat": 4,
  "nbformat_minor": 0,
  "metadata": {
    "colab": {
      "provenance": [],
      "authorship_tag": "ABX9TyPKsca4P3rpuFM6dgFMFOqD",
      "include_colab_link": true
    },
    "kernelspec": {
      "name": "python3",
      "display_name": "Python 3"
    },
    "language_info": {
      "name": "python"
    }
  },
  "cells": [
    {
      "cell_type": "markdown",
      "metadata": {
        "id": "view-in-github",
        "colab_type": "text"
      },
      "source": [
        "<a href=\"https://colab.research.google.com/github/raghu337/weather/blob/main/product.ipynb\" target=\"_parent\"><img src=\"https://colab.research.google.com/assets/colab-badge.svg\" alt=\"Open In Colab\"/></a>"
      ]
    },
    {
      "cell_type": "code",
      "execution_count": 2,
      "metadata": {
        "colab": {
          "base_uri": "https://localhost:8080/"
        },
        "id": "oeIuKYydysWB",
        "outputId": "ec6563de-45ca-46d4-d536-6ef2ea564b7e"
      },
      "outputs": [
        {
          "output_type": "stream",
          "name": "stdout",
          "text": [
            "Product: Widget A, Turnover Rate: 1.60\n",
            "Product: Widget B, Turnover Rate: 1.00\n",
            "Product: Widget A, Current Stock: 10\n",
            "Reorder Point: 5, Suggested Quantity: 20\n"
          ]
        }
      ],
      "source": [
        "class Product:\n",
        "    def __init__(self, product_id, name, category, stock_level, reorder_point, reorder_quantity):\n",
        "        self.product_id = product_id\n",
        "        self.name = name\n",
        "        self.category = category\n",
        "        self.stock_level = stock_level\n",
        "        self.reorder_point = reorder_point\n",
        "        self.reorder_quantity = reorder_quantity\n",
        "        self.historical_sales = []\n",
        "\n",
        "def check_inventory(product):\n",
        "    if product.stock_level < product.reorder_point:\n",
        "        print(f\"Alert: Stock for {product.name} is below reorder point!\")\n",
        "\n",
        "def calculate_reorder_point(product):\n",
        "    average_demand = sum(product.historical_sales) / len(product.historical_sales) if product.historical_sales else 0\n",
        "    lead_time = 2  # Assumed constant lead time\n",
        "    return average_demand * lead_time\n",
        "\n",
        "def calculate_reorder_quantity(product):\n",
        "    return product.reorder_quantity\n",
        "\n",
        "def calculate_turnover_rate(product):\n",
        "    return sum(product.historical_sales) / product.stock_level if product.stock_level > 0 else 0\n",
        "\n",
        "def generate_inventory_report(products):\n",
        "    for product in products:\n",
        "        turnover_rate = calculate_turnover_rate(product)\n",
        "        print(f\"Product: {product.name}, Turnover Rate: {turnover_rate:.2f}\")\n",
        "\n",
        "def user_query(products, product_id):\n",
        "    for product in products:\n",
        "        if product.product_id == product_id:\n",
        "            print(f\"Product: {product.name}, Current Stock: {product.stock_level}\")\n",
        "            print(f\"Reorder Point: {product.reorder_point}, Suggested Quantity: {calculate_reorder_quantity(product)}\")\n",
        "\n",
        "products = [\n",
        "    Product(1, \"Widget A\", \"Widgets\", 10, 5, 20),\n",
        "    Product(2, \"Widget B\", \"Widgets\", 8, 3, 15)\n",
        "]\n",
        "\n",
        "# Populate historical sales data\n",
        "products[0].historical_sales = [2, 3, 5, 2, 4]\n",
        "products[1].historical_sales = [1, 1, 2, 3, 1]\n",
        "\n",
        "for product in products:\n",
        "    check_inventory(product)\n",
        "\n",
        "generate_inventory_report(products)\n",
        "\n",
        "user_query(products, 1)\n",
        "\n"
      ]
    }
  ]
}