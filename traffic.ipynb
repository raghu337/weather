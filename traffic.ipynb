{
  "nbformat": 4,
  "nbformat_minor": 0,
  "metadata": {
    "colab": {
      "provenance": [],
      "authorship_tag": "ABX9TyN986+xZx8kDiRiuOx0szFI",
      "include_colab_link": true
    },
    "kernelspec": {
      "name": "python3",
      "display_name": "Python 3"
    },
    "language_info": {
      "name": "python"
    }
  },
  "cells": [
    {
      "cell_type": "markdown",
      "metadata": {
        "id": "view-in-github",
        "colab_type": "text"
      },
      "source": [
        "<a href=\"https://colab.research.google.com/github/raghu337/weather/blob/main/traffic.ipynb\" target=\"_parent\"><img src=\"https://colab.research.google.com/assets/colab-badge.svg\" alt=\"Open In Colab\"/></a>"
      ]
    },
    {
      "cell_type": "code",
      "execution_count": 12,
      "metadata": {
        "colab": {
          "base_uri": "https://localhost:8080/"
        },
        "id": "oeIuKYydysWB",
        "outputId": "5de66c06-178c-4e47-b6ef-634eda188a44"
      },
      "outputs": [
        {
          "output_type": "stream",
          "name": "stdout",
          "text": [
            "Enter starting point: chennai\n",
            "Enter destination: hyderbad\n",
            "Failed to fetch traffic data. Please check your inputs.\n"
          ]
        }
      ],
      "source": [
        "import requests\n",
        "\n",
        "# Constants\n",
        "TRAFFIC_API_ENDPOINT = \"https://maps.googleapis.com/maps/api/directions/json\"\n",
        "API_KEY = \"db8ac93e0448118581a295f9bfb4283a\"  # Replace with your actual API key\n",
        "\n",
        "def fetch_traffic_data(start, destination):\n",
        "    \"\"\"\n",
        "    Fetches real-time traffic data from Google Maps Directions API.\n",
        "\n",
        "    Parameters:\n",
        "    - start (str): Starting point (e.g., address or coordinates).\n",
        "    - destination (str): Destination point (e.g., address or coordinates).\n",
        "\n",
        "    Returns:\n",
        "    - dict: Traffic data including current conditions, travel time, incidents.\n",
        "    \"\"\"\n",
        "    params = {\n",
        "        \"origin\": start,\n",
        "        \"destination\": destination,\n",
        "        \"key\": API_KEY,\n",
        "        \"departure_time\": \"now\",\n",
        "        \"traffic_model\": \"best_guess\",  # Optional parameter\n",
        "    }\n",
        "\n",
        "    response = requests.get(TRAFFIC_API_ENDPOINT, params=params)\n",
        "    data = response.json()\n",
        "\n",
        "    # Extract traffic information\n",
        "    if data[\"status\"] == \"OK\":\n",
        "        route = data[\"routes\"][0]\n",
        "        traffic_info = {\n",
        "            \"summary\": route[\"summary\"],\n",
        "            \"duration_in_traffic\": route[\"legs\"][0][\"duration_in_traffic\"][\"text\"],\n",
        "            \"traffic_condition\": route[\"legs\"][0][\"traffic_speed_entry\"][0][\"status\"],\n",
        "            # You can extract more details as needed\n",
        "        }\n",
        "        return traffic_info\n",
        "    else:\n",
        "        return None\n",
        "\n",
        "def display_traffic_info(traffic_data):\n",
        "    \"\"\"\n",
        "    Displays the traffic information to the user.\n",
        "\n",
        "    Parameters:\n",
        "    - traffic_data (dict): Traffic data dictionary containing current conditions,\n",
        "                           travel time, incidents, etc.\n",
        "    \"\"\"\n",
        "    if traffic_data:\n",
        "        print(\"Current Traffic Information:\")\n",
        "        print(f\"Route Summary: {traffic_data['summary']}\")\n",
        "        print(f\"Estimated Travel Time: {traffic_data['duration_in_traffic']}\")\n",
        "        print(f\"Traffic Condition: {traffic_data['traffic_condition']}\")\n",
        "    else:\n",
        "        print(\"Failed to fetch traffic data. Please check your inputs.\")\n",
        "\n",
        "if __name__ == \"__main__\":\n",
        "    # Example usage\n",
        "    start = input(\"Enter starting point: \")\n",
        "    destination = input(\"Enter destination: \")\n",
        "\n",
        "    traffic_data = fetch_traffic_data(start, destination)\n",
        "    display_traffic_info(traffic_data)"
      ]
    }
  ]
}